{
 "cells": [
  {
   "cell_type": "code",
   "execution_count": 1,
   "id": "b58034bb",
   "metadata": {},
   "outputs": [],
   "source": [
    "import os\n",
    "import django\n",
    "os.environ.setdefault('DJANGO_SETTINGS_MODULE', 'crossfit.settings')\n",
    "os.environ[\"DJANGO_ALLOW_ASYNC_UNSAFE\"] = \"true\"\n",
    "django.setup()\n",
    "\n",
    "from db.models import Task"
   ]
  },
  {
   "cell_type": "code",
   "execution_count": null,
   "id": "8bf82e94",
   "metadata": {},
   "outputs": [],
   "source": [
    "tasks = Task.object.all()"
   ]
  },
  {
   "cell_type": "code",
   "execution_count": null,
   "id": "e65fa926",
   "metadata": {},
   "outputs": [],
   "source": [
    "tasks.filter"
   ]
  }
 ],
 "metadata": {
  "kernelspec": {
   "display_name": "Django Shell-Plus",
   "language": "python",
   "name": "django_extensions"
  },
  "language_info": {
   "codemirror_mode": {
    "name": "ipython",
    "version": 3
   },
   "file_extension": ".py",
   "mimetype": "text/x-python",
   "name": "python",
   "nbconvert_exporter": "python",
   "pygments_lexer": "ipython3",
   "version": "3.10.5"
  }
 },
 "nbformat": 4,
 "nbformat_minor": 5
}
